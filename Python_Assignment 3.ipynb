{
 "cells": [
  {
   "cell_type": "code",
   "execution_count": 1,
   "metadata": {},
   "outputs": [
    {
     "name": "stdout",
     "output_type": "stream",
     "text": [
      "The operation failed due to exception:  division by zero\n"
     ]
    }
   ],
   "source": [
    "#Write a function to compute 5/0 and use try/except to catch the exceptions.\n",
    "\n",
    "def fun(num1,num2):\n",
    "    try:\n",
    "        final=num1/num2\n",
    "    except Exception as e:\n",
    "        print (\"The operation failed due to exception: \",e)\n",
    "\n",
    "num1=5\n",
    "num2=0\n",
    "fun(num1,num2)"
   ]
  },
  {
   "cell_type": "code",
   "execution_count": 11,
   "metadata": {},
   "outputs": [
    {
     "name": "stdout",
     "output_type": "stream",
     "text": [
      "\n",
      " Final Result is:\n",
      "Americans  play Baseball\n",
      "Americans  play Cricket\n",
      "Americans  watch Baseball\n",
      "Americans  watch Cricket\n",
      "Indians play Baseball\n",
      "Indians play Cricket\n",
      "Indians watch Baseball\n",
      "Indians watch Cricket\n"
     ]
    }
   ],
   "source": [
    "#Implement a Python program to generate all sentences where subject is in [\"Americans\", \"Indians\"] \n",
    "#and verb is in [\"Play\", \"watch\"] and the object is in [\"Baseball\",\"cricket\"].\n",
    "\n",
    "def sentence_func(subjects,verbs,objects):\n",
    "    final_sentence=[(subject+\" \"+verb+\" \"+obj) for subject in subjects for verb in verbs for obj in objects]\n",
    "    return final_sentence\n",
    "\n",
    "#Declaring in program\n",
    "subjects=[\"Americans \",\"Indians\"]\n",
    "verbs=[\"play\",\"watch\"]\n",
    "objects=[\"Baseball\",\"Cricket\"]\n",
    "\n",
    "#getting value in runtime\n",
    "'''split_subjects=input(\"Please enter the subject: \")\n",
    "subjects=split_subjects.split()\n",
    "split_verb=input(\"Please enter the verb: \")\n",
    "verb=split_verb.split()\n",
    "split_object=input(\"Please enter the object: \")\n",
    "object=split_object.split() '''\n",
    "\n",
    "final_sentence=sentence_func(subjects,verbs,objects)\n",
    "print(\"\\n Final Result is:\")\n",
    "for sentence in final_sentence:\n",
    "    print(sentence)\n"
   ]
  },
  {
   "cell_type": "code",
   "execution_count": 15,
   "metadata": {},
   "outputs": [
    {
     "data": {
      "text/plain": [
       "array([[  1,   1,   1,   1],\n",
       "       [  8,   4,   2,   1],\n",
       "       [ 27,   9,   3,   1],\n",
       "       [ 64,  16,   4,   1],\n",
       "       [125,  25,   5,   1]])"
      ]
     },
     "execution_count": 15,
     "metadata": {},
     "output_type": "execute_result"
    }
   ],
   "source": [
    "# 2.Write a function so that the columns of the output matrix are powers of the input vector.\n",
    "\n",
    "#column of the output matrix are power of the input vector\n",
    "import numpy as x\n",
    "y = x.array([1,2,3,4,5])\n",
    "N = 4\n",
    "x.vander(y,N)"
   ]
  },
  {
   "cell_type": "code",
   "execution_count": null,
   "metadata": {},
   "outputs": [],
   "source": []
  }
 ],
 "metadata": {
  "kernelspec": {
   "display_name": "Python 3",
   "language": "python",
   "name": "python3"
  },
  "language_info": {
   "codemirror_mode": {
    "name": "ipython",
    "version": 3
   },
   "file_extension": ".py",
   "mimetype": "text/x-python",
   "name": "python",
   "nbconvert_exporter": "python",
   "pygments_lexer": "ipython3",
   "version": "3.7.6"
  }
 },
 "nbformat": 4,
 "nbformat_minor": 4
}
